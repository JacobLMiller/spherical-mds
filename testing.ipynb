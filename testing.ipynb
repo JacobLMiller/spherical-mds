{
 "cells": [
  {
   "cell_type": "code",
   "execution_count": 1,
   "metadata": {},
   "outputs": [],
   "source": [
    "import numpy as np\n",
    "import graph_tool.all as gt"
   ]
  },
  {
   "cell_type": "code",
   "execution_count": null,
   "metadata": {},
   "outputs": [],
   "source": []
  },
  {
   "cell_type": "code",
   "execution_count": 2,
   "metadata": {},
   "outputs": [],
   "source": [
    "import os"
   ]
  },
  {
   "cell_type": "code",
   "execution_count": 6,
   "metadata": {},
   "outputs": [
    {
     "data": {
      "text/plain": [
       "'[\"delaunay_n10\", \"CA-GrQc\", \"dwt_221\", \"dwt_162\", \"grid1_dual\", \"can_96\", \"can_445\", \"netscience\", \"rajat11\", \"494_bus\", \"jazz\", \"dodecahedron\", \"oscil_dcop_01\", \"isocahedron_4\", \"dwt_307\", \"block2\", \"us_powergrid\", \"fpga\", \"block_400\", \"isocahedron\", \"cube\", \"can_73\", \"bcsstk09\", \"block_2000\", \"dodecahedron_4\", \"oscil\", \"3elt\", \"400_block_3_sets\", \"price_1000\", \"sierpinski3d\", \"dwt_72\", \"cube_4\", \"dwt_419\", \"grid17\", \"visbrazil\", \"cage8\", \"dwt_361\", \"dwt_918\", \"lesmis\", \"EVA\", \"dwt_1005\", \"can_144\", \"can_161\"]'"
      ]
     },
     "execution_count": 6,
     "metadata": {},
     "output_type": "execute_result"
    }
   ],
   "source": [
    "x = [s.split('.')[0] for s in os.listdir('webapp/exp_drawings/')]\n",
    "import json \n",
    "json.dumps(x)"
   ]
  },
  {
   "cell_type": "code",
   "execution_count": 1,
   "metadata": {},
   "outputs": [],
   "source": [
    "from fractions import Fraction\n"
   ]
  },
  {
   "cell_type": "code",
   "execution_count": 10,
   "metadata": {},
   "outputs": [
    {
     "data": {
      "text/plain": [
       "1.6000000000000003"
      ]
     },
     "execution_count": 10,
     "metadata": {},
     "output_type": "execute_result"
    }
   ],
   "source": [
    "poly = lambda x: 0.2*x**5 - 0.5*x**4 + (1/3)*x**3\n",
    "\n",
    "(3/2) * (poly(2)-poly(0))\n"
   ]
  }
 ],
 "metadata": {
  "kernelspec": {
   "display_name": "Python 3.10.4 ('gt')",
   "language": "python",
   "name": "python3"
  },
  "language_info": {
   "codemirror_mode": {
    "name": "ipython",
    "version": 3
   },
   "file_extension": ".py",
   "mimetype": "text/x-python",
   "name": "python",
   "nbconvert_exporter": "python",
   "pygments_lexer": "ipython3",
   "version": "3.10.4"
  },
  "orig_nbformat": 4,
  "vscode": {
   "interpreter": {
    "hash": "781d4570b8acc58f74647df9ee47f1fdab6f97c7e0fb903b9dd3d54820dde562"
   }
  }
 },
 "nbformat": 4,
 "nbformat_minor": 2
}
