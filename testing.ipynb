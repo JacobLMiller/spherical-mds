{
 "cells": [
  {
   "cell_type": "code",
   "execution_count": 1,
   "metadata": {},
   "outputs": [],
   "source": [
    "import numpy as np\n",
    "import graph_tool.all as gt"
   ]
  },
  {
   "cell_type": "code",
   "execution_count": null,
   "metadata": {},
   "outputs": [],
   "source": []
  },
  {
   "cell_type": "code",
   "execution_count": 2,
   "metadata": {},
   "outputs": [],
   "source": [
    "import os"
   ]
  },
  {
   "cell_type": "code",
   "execution_count": 5,
   "metadata": {},
   "outputs": [
    {
     "data": {
      "text/plain": [
       "['delaunay_n10',\n",
       " 'CA-GrQc',\n",
       " 'dwt_221',\n",
       " 'dwt_162',\n",
       " 'grid1_dual',\n",
       " 'can_96',\n",
       " 'can_445',\n",
       " 'netscience',\n",
       " 'rajat11',\n",
       " '494_bus',\n",
       " 'jazz',\n",
       " 'dodecahedron',\n",
       " 'oscil_dcop_01',\n",
       " 'isocahedron_4',\n",
       " 'dwt_307',\n",
       " 'block2',\n",
       " 'us_powergrid',\n",
       " 'fpga',\n",
       " 'block_400',\n",
       " 'isocahedron',\n",
       " 'cube',\n",
       " 'can_73',\n",
       " 'bcsstk09',\n",
       " 'block_2000',\n",
       " 'dodecahedron_4',\n",
       " 'oscil',\n",
       " '3elt',\n",
       " '400_block_3_sets',\n",
       " 'price_1000',\n",
       " 'sierpinski3d',\n",
       " 'dwt_72',\n",
       " 'cube_4',\n",
       " 'dwt_419',\n",
       " 'grid17',\n",
       " 'visbrazil',\n",
       " 'cage8',\n",
       " 'dwt_361',\n",
       " 'dwt_918',\n",
       " 'lesmis',\n",
       " 'EVA',\n",
       " 'dwt_1005',\n",
       " 'can_144',\n",
       " 'can_161']"
      ]
     },
     "execution_count": 5,
     "metadata": {},
     "output_type": "execute_result"
    }
   ],
   "source": [
    "x = [s.split('.')[0] for s in os.listdir('webapp/exp_drawings/')]\n",
    "x\n",
    "import json \n",
    "json.dumps(x)"
   ]
  },
  {
   "cell_type": "code",
   "execution_count": null,
   "metadata": {},
   "outputs": [],
   "source": [
    "from fractions import Fraction\n"
   ]
  },
  {
   "cell_type": "code",
   "execution_count": null,
   "metadata": {},
   "outputs": [
    {
     "data": {
      "text/plain": [
       "Fraction(10, 19)"
      ]
     },
     "execution_count": 5,
     "metadata": {},
     "output_type": "execute_result"
    }
   ],
   "source": [
    "a = Fraction(2,3)\n",
    "b = Fraction(1,2)\n",
    "\n",
    "c = Fraction(3,5)\n",
    "\n",
    "pb = a*b + c*b\n",
    "\n",
    "a*b / pb"
   ]
  }
 ],
 "metadata": {
  "kernelspec": {
   "display_name": "Python 3.10.4 ('gt')",
   "language": "python",
   "name": "python3"
  },
  "language_info": {
   "codemirror_mode": {
    "name": "ipython",
    "version": 3
   },
   "file_extension": ".py",
   "mimetype": "text/x-python",
   "name": "python",
   "nbconvert_exporter": "python",
   "pygments_lexer": "ipython3",
   "version": "3.10.4"
  },
  "orig_nbformat": 4,
  "vscode": {
   "interpreter": {
    "hash": "781d4570b8acc58f74647df9ee47f1fdab6f97c7e0fb903b9dd3d54820dde562"
   }
  }
 },
 "nbformat": 4,
 "nbformat_minor": 2
}
