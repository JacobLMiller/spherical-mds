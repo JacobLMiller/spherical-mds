{
 "cells": [
  {
   "cell_type": "code",
   "execution_count": 1,
   "metadata": {},
   "outputs": [],
   "source": [
    "import numpy as np\n",
    "import pylab"
   ]
  },
  {
   "cell_type": "code",
   "execution_count": 2,
   "metadata": {},
   "outputs": [],
   "source": [
    "import os "
   ]
  },
  {
   "cell_type": "code",
   "execution_count": 11,
   "metadata": {},
   "outputs": [
    {
     "data": {
      "text/plain": [
       "'[\"isocahedron_6\", \"cage7\", \"Trec8\", \"lp_nug05\", \"lp_sc205\", \"lpi_klein2\", \"cube_3\", \"isocahedron_2\", \"dwg961a\", \"L\", \"fs_183_1\", \"G15\", \"lpi_cplex2\", \"cavity03\", \"lnsp_511\", \"dodecahedron_4\", \"oscil_dcop_16\", \"dodecahedron_0\", \"130bit\", \"oscil_dcop_41\", \"rbsa480\", \"oscil_dcop_44\", \"cavity02\", \"dodecahedron_5\", \"steam3\", \"oscil_dcop_17\", \"M20PI_n1\", \"cat_ears_4_1\", \"dodecahedron_1\", \"lpi_bgetam\", \"cavity06\", \"oscil_dcop_22\", \"GD99_c\", \"lp_brandy\", \"nnc666\", \"G7\", \"Trec10\", \"cube_6\", \"jazz\", \"lp_sctap1\", \"G10\", \"G47\", \"lpi_klein3\", \"cube_2\", \"isocahedron_3\", \"oscil_dcop_50\", \"G3\", \"young3c\", \"Trec3\", \"Si2\", \"Maragal_2\", \"lpi_bgdbg1\", \"wm2\", \"ww_36_pmec_36\", \"dodecahedron_3\", \"circuit204\", \"tomography\", \"cavity04\", \"Trefethen_300\", \"isocahedron_5\", \"dwt_361\", \"cube_4\", \"olm100\", \"oscil_dcop_05\", \"jgl009\", \"cube_0\", \"lp_scorpion\", \"isocahedron_1\", \"dwt_918\", \"lp_agg3\", \"isocahedron_4\", \"oscil_dcop_57\", \"LF10\", \"dwt_758\", \"cube_5\", \"ash331\", \"oscil_dcop_04\", \"rajat14\", \"GD97_b\", \"rotor2\", \"orsirr_1\", \"IG5-9\", \"jpwh_991\", \"cube_1\", \"isocahedron_0\", \"jagmesh5\", \"oscil_dcop_47\", \"robot\", \"cat_ears_3_1\", \"dodecahedron_6\", \"bp_1600\", \"lp_share2b\", \"rajat04\", \"oscil_dcop_14\", \"lesmis\", \"Journals\", \"dodecahedron_2\", \"impcol_a\", \"GL6_D_6\", \"gre_115\", \"bibd_9_3\", \"ex27\"]'"
      ]
     },
     "execution_count": 11,
     "metadata": {},
     "output_type": "execute_result"
    }
   ],
   "source": [
    "path = 'webapp/store_data/'\n",
    "graphs = [graph.split('.')[0] for graph in os.listdir(path)]\n",
    "\n",
    "\n",
    "import json \n",
    "to_str = json.dumps(graphs)\n",
    "to_str"
   ]
  }
 ],
 "metadata": {
  "kernelspec": {
   "display_name": "Python 3.9.7 ('gt')",
   "language": "python",
   "name": "python3"
  },
  "language_info": {
   "codemirror_mode": {
    "name": "ipython",
    "version": 3
   },
   "file_extension": ".py",
   "mimetype": "text/x-python",
   "name": "python",
   "nbconvert_exporter": "python",
   "pygments_lexer": "ipython3",
   "version": "3.9.7"
  },
  "orig_nbformat": 4,
  "vscode": {
   "interpreter": {
    "hash": "b80442c9b3804837b1ce71d16c11fffbc4b78f570ee576b32d9a1e1aa414a393"
   }
  }
 },
 "nbformat": 4,
 "nbformat_minor": 2
}
